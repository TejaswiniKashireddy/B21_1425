{
  "nbformat": 4,
  "nbformat_minor": 0,
  "metadata": {
    "colab": {
      "provenance": [],
      "authorship_tag": "ABX9TyPjNNgO0leqWbS0fO2YRvYC",
      "include_colab_link": true
    },
    "kernelspec": {
      "name": "python3",
      "display_name": "Python 3"
    },
    "language_info": {
      "name": "python"
    }
  },
  "cells": [
    {
      "cell_type": "markdown",
      "metadata": {
        "id": "view-in-github",
        "colab_type": "text"
      },
      "source": [
        "<a href=\"https://colab.research.google.com/github/TejaswiniKashireddy/B21_1425/blob/main/Lab_3.ipynb\" target=\"_parent\"><img src=\"https://colab.research.google.com/assets/colab-badge.svg\" alt=\"Open In Colab\"/></a>"
      ]
    },
    {
      "cell_type": "code",
      "execution_count": 2,
      "metadata": {
        "id": "agO019_iZzRg"
      },
      "outputs": [],
      "source": [
        "import numpy as np"
      ]
    },
    {
      "cell_type": "code",
      "source": [
        "test_scores = np.random.randint(50, 101, size=(4, 4))\n",
        "print(test_scores)"
      ],
      "metadata": {
        "colab": {
          "base_uri": "https://localhost:8080/"
        },
        "id": "yfUmI8tdaLS8",
        "outputId": "bb60981a-e602-4941-ac85-bde191f83dfd"
      },
      "execution_count": 3,
      "outputs": [
        {
          "output_type": "stream",
          "name": "stdout",
          "text": [
            "[[97 75 90 78]\n",
            " [79 78 67 53]\n",
            " [71 50 78 99]\n",
            " [71 93 79 85]]\n"
          ]
        }
      ]
    },
    {
      "cell_type": "code",
      "source": [
        "column_means = np.mean(test_scores, axis=0)\n",
        "row_means = np.mean(test_scores, axis=1)\n",
        "print(\"Column-wise means:\", column_means)\n",
        "print(\"Row-wise means:\", row_means)\n"
      ],
      "metadata": {
        "colab": {
          "base_uri": "https://localhost:8080/"
        },
        "id": "bBLDWk9raPLW",
        "outputId": "5c06b0af-d7fc-464b-aa48-1e4e3a66fb8c"
      },
      "execution_count": 5,
      "outputs": [
        {
          "output_type": "stream",
          "name": "stdout",
          "text": [
            "Column-wise means: [79.5  74.   78.5  78.75]\n",
            "Row-wise means: [85.   69.25 74.5  82.  ]\n"
          ]
        }
      ]
    },
    {
      "cell_type": "code",
      "source": [
        "std_dev = np.std(test_scores)\n",
        "variance = np.var(test_scores)\n",
        "\n",
        "print(\"Standard Deviation:\", std_dev)\n",
        "print(\"Variance:\", variance)"
      ],
      "metadata": {
        "colab": {
          "base_uri": "https://localhost:8080/"
        },
        "id": "u5Ek0JCKaWXW",
        "outputId": "7d6c25f7-78e8-4388-9e62-2cb9290b84d2"
      },
      "execution_count": 6,
      "outputs": [
        {
          "output_type": "stream",
          "name": "stdout",
          "text": [
            "Standard Deviation: 13.36375111074731\n",
            "Variance: 178.58984375\n"
          ]
        }
      ]
    },
    {
      "cell_type": "code",
      "source": [
        "min_value = np.min(test_scores)\n",
        "max_value = np.max(test_scores)\n",
        "min_index = np.argmin(test_scores)\n",
        "max_index = np.argmax(test_scores)\n",
        "\n",
        "print(\"Minimum value:\", min_value)\n",
        "print(\"Maximum value:\", max_value)\n",
        "print(\"Index of minimum value:\", min_index)\n",
        "print(\"Index of maximum value:\", max_index)"
      ],
      "metadata": {
        "colab": {
          "base_uri": "https://localhost:8080/"
        },
        "id": "acfGq3wTafCl",
        "outputId": "c8bd9ca0-639f-4785-e7a7-5319fef1daea"
      },
      "execution_count": 7,
      "outputs": [
        {
          "output_type": "stream",
          "name": "stdout",
          "text": [
            "Minimum value: 50\n",
            "Maximum value: 99\n",
            "Index of minimum value: 9\n",
            "Index of maximum value: 11\n"
          ]
        }
      ]
    },
    {
      "cell_type": "code",
      "source": [
        "print(\"Statistical Analysis Summary:\")\n",
        "print(f\"Row-wise means: {row_means}\")\n",
        "print(f\"Column-wise means: {column_means}\")\n",
        "print(f\"Overall Standard Deviation: {std_dev}\")\n",
        "print(f\"Overall Variance: {variance}\")\n",
        "print(f\"Global Minimum Value: {min_value} (Index: {min_index})\")\n",
        "print(f\"Global Maximum Value: {max_value} (Index: {max_index})\")"
      ],
      "metadata": {
        "colab": {
          "base_uri": "https://localhost:8080/"
        },
        "id": "RqbHVnNXajoe",
        "outputId": "afb511da-7619-44cd-98fa-11bfa0d43092"
      },
      "execution_count": 8,
      "outputs": [
        {
          "output_type": "stream",
          "name": "stdout",
          "text": [
            "Statistical Analysis Summary:\n",
            "Row-wise means: [85.   69.25 74.5  82.  ]\n",
            "Column-wise means: [79.5  74.   78.5  78.75]\n",
            "Overall Standard Deviation: 13.36375111074731\n",
            "Overall Variance: 178.58984375\n",
            "Global Minimum Value: 50 (Index: 9)\n",
            "Global Maximum Value: 99 (Index: 11)\n"
          ]
        }
      ]
    },
    {
      "cell_type": "code",
      "source": [
        "rgb_image = np.random.randint(0, 256, size=(3, 3, 3))\n",
        "print(rgb_image)\n",
        ""
      ],
      "metadata": {
        "colab": {
          "base_uri": "https://localhost:8080/"
        },
        "id": "I7dlKcO_am3F",
        "outputId": "9f42ae9e-b53e-41db-c654-0760eeb64485"
      },
      "execution_count": 9,
      "outputs": [
        {
          "output_type": "stream",
          "name": "stdout",
          "text": [
            "[[[ 29 192 242]\n",
            "  [ 56  32 158]\n",
            "  [193  78 144]]\n",
            "\n",
            " [[202  56 112]\n",
            "  [117  38 165]\n",
            "  [ 69 147  60]]\n",
            "\n",
            " [[184  84   5]\n",
            "  [196 244 181]\n",
            "  [236 160 207]]]\n"
          ]
        }
      ]
    },
    {
      "cell_type": "code",
      "source": [
        "red_channel = rgb_image[:, :, 0]\n",
        "green_channel = rgb_image[:, :, 1]\n",
        "blue_channel = rgb_image[:, :, 2]\n",
        "print(\"Red Channel:\\n\", red_channel)\n",
        "print(\"Green Channel:\\n\", green_channel)\n",
        "print(\"Blue Channel:\\n\", blue_channel)\n",
        ""
      ],
      "metadata": {
        "colab": {
          "base_uri": "https://localhost:8080/"
        },
        "id": "fda0zV9caszK",
        "outputId": "fe02fb5a-b3b5-49cf-bb0c-012c854af965"
      },
      "execution_count": 10,
      "outputs": [
        {
          "output_type": "stream",
          "name": "stdout",
          "text": [
            "Red Channel:\n",
            " [[ 29  56 193]\n",
            " [202 117  69]\n",
            " [184 196 236]]\n",
            "Green Channel:\n",
            " [[192  32  78]\n",
            " [ 56  38 147]\n",
            " [ 84 244 160]]\n",
            "Blue Channel:\n",
            " [[242 158 144]\n",
            " [112 165  60]\n",
            " [  5 181 207]]\n"
          ]
        }
      ]
    },
    {
      "cell_type": "code",
      "source": [
        "red_channel = rgb_image[:, :, 0]\n",
        "green_channel = rgb_image[:, :, 1]\n",
        "blue_channel = rgb_image[:, :, 2]\n",
        "print(\"Red Channel:\\n\", red_channel)\n",
        "print(\"Green Channel:\\n\", green_channel)\n",
        "print(\"Blue Channel:\\n\", blue_channel)"
      ],
      "metadata": {
        "colab": {
          "base_uri": "https://localhost:8080/"
        },
        "id": "vh7T8oJua4yB",
        "outputId": "b0f3cb02-c272-42a3-fefa-fabe07fca9e3"
      },
      "execution_count": 11,
      "outputs": [
        {
          "output_type": "stream",
          "name": "stdout",
          "text": [
            "Red Channel:\n",
            " [[ 29  56 193]\n",
            " [202 117  69]\n",
            " [184 196 236]]\n",
            "Green Channel:\n",
            " [[192  32  78]\n",
            " [ 56  38 147]\n",
            " [ 84 244 160]]\n",
            "Blue Channel:\n",
            " [[242 158 144]\n",
            " [112 165  60]\n",
            " [  5 181 207]]\n"
          ]
        }
      ]
    },
    {
      "cell_type": "code",
      "source": [
        "red_mean = np.mean(red_channel)\n",
        "green_mean = np.mean(green_channel)\n",
        "blue_mean = np.mean(blue_channel)\n",
        "print(f\"Average pixel intensity for Red channel: {red_mean}\")\n",
        "print(f\"Average pixel intensity for Green channel: {green_mean}\")\n",
        "print(f\"Average pixel intensity for Blue channel: {blue_mean}\")"
      ],
      "metadata": {
        "colab": {
          "base_uri": "https://localhost:8080/"
        },
        "id": "XLXVpreWb_vG",
        "outputId": "2d1805cc-e6b3-40ec-9d0a-548f3075b017"
      },
      "execution_count": 17,
      "outputs": [
        {
          "output_type": "stream",
          "name": "stdout",
          "text": [
            "Average pixel intensity for Red channel: 142.44444444444446\n",
            "Average pixel intensity for Green channel: 114.55555555555556\n",
            "Average pixel intensity for Blue channel: 141.55555555555554\n"
          ]
        }
      ]
    },
    {
      "cell_type": "code",
      "source": [
        "brightness_increase = 50\n",
        "brightened_image = np.clip(rgb_image + brightness_increase, 0, 255)\n",
        "print(\"Brightened Image (clipped at 255):\\n\", brightened_image)"
      ],
      "metadata": {
        "colab": {
          "base_uri": "https://localhost:8080/"
        },
        "id": "E-soBKHPbDce",
        "outputId": "685a1238-8c33-4c26-f02c-b8b63f83aaa5"
      },
      "execution_count": 18,
      "outputs": [
        {
          "output_type": "stream",
          "name": "stdout",
          "text": [
            "Brightened Image (clipped at 255):\n",
            " [[[ 79 242 255]\n",
            "  [106  82 208]\n",
            "  [243 128 194]]\n",
            "\n",
            " [[252 106 162]\n",
            "  [167  88 215]\n",
            "  [119 197 110]]\n",
            "\n",
            " [[234 134  55]\n",
            "  [246 255 231]\n",
            "  [255 210 255]]]\n"
          ]
        }
      ]
    },
    {
      "cell_type": "code",
      "source": [
        "print(\"Statistical Analysis Summary:\")\n",
        "print(\"Red Channel:\\n\", red_channel)\n",
        "print(\"Green Channel:\\n\", green_channel)\n",
        "print(\"Blue Channel:\\n\", blue_channel)\n",
        "print(f\"\\nAverage pixel intensity for Red channel: {red_mean}\")\n",
        "print(f\"Average pixel intensity for Green channel: {green_mean}\")\n",
        "print(f\"Average pixel intensity for Blue channel: {blue_mean}\")\n",
        "print(\"\\nBrightened Image (clipped at 255):\\n\", brightened_image)"
      ],
      "metadata": {
        "colab": {
          "base_uri": "https://localhost:8080/"
        },
        "id": "OGF-gRu3bcwx",
        "outputId": "78dab036-9dcd-47f1-b36a-97d05a067085"
      },
      "execution_count": 19,
      "outputs": [
        {
          "output_type": "stream",
          "name": "stdout",
          "text": [
            "Statistical Analysis Summary:\n",
            "Red Channel:\n",
            " [[ 29  56 193]\n",
            " [202 117  69]\n",
            " [184 196 236]]\n",
            "Green Channel:\n",
            " [[192  32  78]\n",
            " [ 56  38 147]\n",
            " [ 84 244 160]]\n",
            "Blue Channel:\n",
            " [[242 158 144]\n",
            " [112 165  60]\n",
            " [  5 181 207]]\n",
            "\n",
            "Average pixel intensity for Red channel: 142.44444444444446\n",
            "Average pixel intensity for Green channel: 114.55555555555556\n",
            "Average pixel intensity for Blue channel: 141.55555555555554\n",
            "\n",
            "Brightened Image (clipped at 255):\n",
            " [[[ 79 242 255]\n",
            "  [106  82 208]\n",
            "  [243 128 194]]\n",
            "\n",
            " [[252 106 162]\n",
            "  [167  88 215]\n",
            "  [119 197 110]]\n",
            "\n",
            " [[234 134  55]\n",
            "  [246 255 231]\n",
            "  [255 210 255]]]\n"
          ]
        }
      ]
    }
  ]
}