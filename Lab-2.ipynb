{
  "nbformat": 4,
  "nbformat_minor": 0,
  "metadata": {
    "colab": {
      "provenance": [],
      "authorship_tag": "ABX9TyOBDiPCtUj9PHVpkGWRtNVz",
      "include_colab_link": true
    },
    "kernelspec": {
      "name": "python3",
      "display_name": "Python 3"
    },
    "language_info": {
      "name": "python"
    }
  },
  "cells": [
    {
      "cell_type": "markdown",
      "metadata": {
        "id": "view-in-github",
        "colab_type": "text"
      },
      "source": [
        "<a href=\"https://colab.research.google.com/github/TejaswiniKashireddy/B21_1425/blob/main/Lab-2.ipynb\" target=\"_parent\"><img src=\"https://colab.research.google.com/assets/colab-badge.svg\" alt=\"Open In Colab\"/></a>"
      ]
    },
    {
      "cell_type": "code",
      "execution_count": 1,
      "metadata": {
        "colab": {
          "base_uri": "https://localhost:8080/"
        },
        "id": "7QaPrsKtSMF6",
        "outputId": "4f5e3e2a-5703-4fa9-91a0-2f4cb559aac9"
      },
      "outputs": [
        {
          "output_type": "stream",
          "name": "stdout",
          "text": [
            "Student Marks:\n",
            " [[85 78 92]\n",
            " [76 88 69]\n",
            " [90 91 85]]\n"
          ]
        }
      ],
      "source": [
        "import numpy as np\n",
        "marks = np.array([\n",
        "    [85, 78, 92],\n",
        "    [76, 88, 69],\n",
        "    [90, 91, 85],\n",
        "    ])\n",
        "print(\"Student Marks:\\n\",marks)"
      ]
    },
    {
      "cell_type": "markdown",
      "source": [
        "Calculate average,minimum and maximum markst"
      ],
      "metadata": {
        "id": "y0htKKvtSk-M"
      }
    },
    {
      "cell_type": "code",
      "source": [
        "avg_stu=np.mean(marks, axis=1)\n",
        "print(\"\\nAverage marks per student:\",avg_stu)\n",
        "\n",
        "min_stu=np.min(marks, axis=0)\n",
        "print(\"\\nMinimum marks per student:\",min_stu)\n",
        "\n",
        "max_stu=np.max(marks, axis=0)\n",
        "print(\"\\nMaximum marks per student:\",max_stu)\n"
      ],
      "metadata": {
        "colab": {
          "base_uri": "https://localhost:8080/"
        },
        "id": "3axpCV-bSzgk",
        "outputId": "a090e402-2378-48c0-c6ef-a2ef5d76f529"
      },
      "execution_count": 2,
      "outputs": [
        {
          "output_type": "stream",
          "name": "stdout",
          "text": [
            "\n",
            "Average marks per student: [85.         77.66666667 88.66666667]\n",
            "\n",
            "Minimum marks per student: [76 78 69]\n",
            "\n",
            "Maximum marks per student: [90 91 92]\n"
          ]
        }
      ]
    },
    {
      "cell_type": "markdown",
      "source": [
        "Use slicing to retrive marks of specific students"
      ],
      "metadata": {
        "id": "hsr2j25FS6Zt"
      }
    },
    {
      "cell_type": "code",
      "source": [
        "print(\"Marks of student 1:\",marks[0])\n",
        "\n",
        "print(\"Marks of first 3 students :\\n\",marks[:3])"
      ],
      "metadata": {
        "colab": {
          "base_uri": "https://localhost:8080/"
        },
        "id": "w3DP2RQxTHgZ",
        "outputId": "a597bd80-9284-4c8f-c5ec-8a715ea46752"
      },
      "execution_count": 3,
      "outputs": [
        {
          "output_type": "stream",
          "name": "stdout",
          "text": [
            "Marks of student 1: [85 78 92]\n",
            "Marks of first 3 students :\n",
            " [[85 78 92]\n",
            " [76 88 69]\n",
            " [90 91 85]]\n"
          ]
        }
      ]
    },
    {
      "cell_type": "markdown",
      "source": [
        "Use boolean indexing to find students scoring above 80 in all subjects"
      ],
      "metadata": {
        "id": "worlJo0BTRhF"
      }
    },
    {
      "cell_type": "code",
      "source": [
        "high_achievers = marks[np.all(marks > 80, axis=1)]\n",
        "print(\"\\nStudents scoring above 80 in all subjects:\\n\", high_achievers)"
      ],
      "metadata": {
        "colab": {
          "base_uri": "https://localhost:8080/"
        },
        "id": "DNToMEDkTs_m",
        "outputId": "c492fa12-bdde-4f37-e594-dadae39d8e18"
      },
      "execution_count": 4,
      "outputs": [
        {
          "output_type": "stream",
          "name": "stdout",
          "text": [
            "\n",
            "Students scoring above 80 in all subjects:\n",
            " [[90 91 85]]\n"
          ]
        }
      ]
    },
    {
      "cell_type": "markdown",
      "source": [
        "Reshape array to observe subject-wise performance"
      ],
      "metadata": {
        "id": "w9ox5C3mT0SI"
      }
    },
    {
      "cell_type": "code",
      "source": [
        "subject_wise = marks.T\n",
        "print(\"\\nSubject-wise performance:\\n\", subject_wise)"
      ],
      "metadata": {
        "colab": {
          "base_uri": "https://localhost:8080/"
        },
        "id": "eauWig5cUOFu",
        "outputId": "d4e3d98d-295f-4206-fcbd-4d9b072d7767"
      },
      "execution_count": 5,
      "outputs": [
        {
          "output_type": "stream",
          "name": "stdout",
          "text": [
            "\n",
            "Subject-wise performance:\n",
            " [[85 76 90]\n",
            " [78 88 91]\n",
            " [92 69 85]]\n"
          ]
        }
      ]
    },
    {
      "cell_type": "markdown",
      "source": [
        "Brief Analysis of Results"
      ],
      "metadata": {
        "id": "8um7jszFUV7P"
      }
    },
    {
      "cell_type": "code",
      "source": [
        "print(\"1.Student 3 has scored consistently high.\")\n",
        "print(\"2.Subject 3 has the highest average performance\")\n",
        "print(\"3.1 student(s) scored above 80 in all subjects.\")"
      ],
      "metadata": {
        "colab": {
          "base_uri": "https://localhost:8080/"
        },
        "id": "CmGIXMbdUi88",
        "outputId": "056cbacc-6f3d-41e1-a3e9-da759f8c150e"
      },
      "execution_count": 6,
      "outputs": [
        {
          "output_type": "stream",
          "name": "stdout",
          "text": [
            "1.Student 3 has scored consistently high.\n",
            "2.Subject 3 has the highest average performance\n",
            "3.1 student(s) scored above 80 in all subjects.\n"
          ]
        }
      ]
    }
  ]
}