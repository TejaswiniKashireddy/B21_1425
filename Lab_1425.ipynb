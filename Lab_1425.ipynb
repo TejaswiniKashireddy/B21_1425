{
  "nbformat": 4,
  "nbformat_minor": 0,
  "metadata": {
    "colab": {
      "provenance": [],
      "authorship_tag": "ABX9TyNTBn6QNs7LOLVPsePtNn1c",
      "include_colab_link": true
    },
    "kernelspec": {
      "name": "python3",
      "display_name": "Python 3"
    },
    "language_info": {
      "name": "python"
    }
  },
  "cells": [
    {
      "cell_type": "markdown",
      "metadata": {
        "id": "view-in-github",
        "colab_type": "text"
      },
      "source": [
        "<a href=\"https://colab.research.google.com/github/TejaswiniKashireddy/B21_1425/blob/main/Lab_1425.ipynb\" target=\"_parent\"><img src=\"https://colab.research.google.com/assets/colab-badge.svg\" alt=\"Open In Colab\"/></a>"
      ]
    },
    {
      "cell_type": "code",
      "execution_count": 1,
      "metadata": {
        "colab": {
          "base_uri": "https://localhost:8080/"
        },
        "id": "ZhZL9GhZK87j",
        "outputId": "fea0ec2a-9e67-4985-8676-3ea0c0db8dd7"
      },
      "outputs": [
        {
          "output_type": "stream",
          "name": "stdout",
          "text": [
            "Enter the Number: 5\n",
            "120\n"
          ]
        }
      ],
      "source": [
        "def fact(n):\n",
        "    if n == 0 or n == 1:\n",
        "        return 1\n",
        "    else:\n",
        "        return n * fact(n - 1)\n",
        "\n",
        "n = int(input(\"Enter the Number: \"))\n",
        "if n <= 10:\n",
        "    print(fact(n))\n",
        "else:\n",
        "    print(\"Enter Number less than 10\")"
      ]
    }
  ]
}