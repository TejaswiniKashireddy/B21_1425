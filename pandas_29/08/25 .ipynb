{
  "nbformat": 4,
  "nbformat_minor": 0,
  "metadata": {
    "colab": {
      "provenance": [],
      "authorship_tag": "ABX9TyN+rzOXfFeBcOHIH76DATcB",
      "include_colab_link": true
    },
    "kernelspec": {
      "name": "python3",
      "display_name": "Python 3"
    },
    "language_info": {
      "name": "python"
    }
  },
  "cells": [
    {
      "cell_type": "markdown",
      "metadata": {
        "id": "view-in-github",
        "colab_type": "text"
      },
      "source": [
        "<a href=\"https://colab.research.google.com/github/TejaswiniKashireddy/B21_1425/blob/main/pandas_29/08/25%20.ipynb\" target=\"_parent\"><img src=\"https://colab.research.google.com/assets/colab-badge.svg\" alt=\"Open In Colab\"/></a>"
      ]
    },
    {
      "cell_type": "code",
      "source": [
        "import pandas as pd\n",
        "#create a series from list\n",
        "data = [10,20,30,40,50]\n",
        "series = pd.Series(data)\n",
        "print(\"pandsa Series:\")\n",
        "print(series)"
      ],
      "metadata": {
        "colab": {
          "base_uri": "https://localhost:8080/"
        },
        "id": "9L40sWUdKHDA",
        "outputId": "b4abda3f-b3d4-419b-c071-7fa5be57a798"
      },
      "execution_count": 28,
      "outputs": [
        {
          "output_type": "stream",
          "name": "stdout",
          "text": [
            "pandsa Series:\n",
            "0    10\n",
            "1    20\n",
            "2    30\n",
            "3    40\n",
            "4    50\n",
            "dtype: int64\n"
          ]
        }
      ]
    },
    {
      "cell_type": "code",
      "execution_count": 1,
      "metadata": {
        "colab": {
          "base_uri": "https://localhost:8080/"
        },
        "id": "5nkParg_836l",
        "outputId": "4a3a8098-669a-4213-b203-8d4af11853b1"
      },
      "outputs": [
        {
          "output_type": "stream",
          "name": "stdout",
          "text": [
            "a    10\n",
            "b    20\n",
            "c    30\n",
            "d    40\n",
            "e    50\n",
            "dtype: int64\n"
          ]
        }
      ],
      "source": [
        "import pandas as pd\n",
        "data=[10,20,30,40,50]\n",
        "index_labels=['a','b','c','d','e']\n",
        "series = pd.Series(data,index=index_labels)\n",
        "print(series)"
      ]
    },
    {
      "cell_type": "code",
      "source": [
        "import pandas as pd\n",
        "data={ 'Name':['Alice','Bob','Charlie','David'],'Age':[25,30,35,40],'city':['New York','San Francisco','Los Angeles','Chicago']}\n",
        "df=pd.DataFrame(data)\n",
        "print(df)"
      ],
      "metadata": {
        "colab": {
          "base_uri": "https://localhost:8080/"
        },
        "id": "80GTX9r8-q97",
        "outputId": "15bc62d2-aa5e-48d7-b3e7-a0ad822ac94b"
      },
      "execution_count": 6,
      "outputs": [
        {
          "output_type": "stream",
          "name": "stdout",
          "text": [
            "      Name  Age           city\n",
            "0    Alice   25       New York\n",
            "1      Bob   30  San Francisco\n",
            "2  Charlie   35    Los Angeles\n",
            "3    David   40        Chicago\n"
          ]
        }
      ]
    },
    {
      "cell_type": "code",
      "source": [
        "#basic dataframe operations\n",
        "#access a single column\n",
        "print(df['Name'])\n",
        "print(df[['Name','city']])\n",
        "print(df.iloc[1])\n",
        "print(df.iloc[2])\n"
      ],
      "metadata": {
        "colab": {
          "base_uri": "https://localhost:8080/"
        },
        "id": "5mQ6BHHr-yl0",
        "outputId": "73ac9ff0-9bd8-4f5a-bf49-278207d5901f"
      },
      "execution_count": 11,
      "outputs": [
        {
          "output_type": "stream",
          "name": "stdout",
          "text": [
            "0      Alice\n",
            "1        Bob\n",
            "2    Charlie\n",
            "3      David\n",
            "Name: Name, dtype: object\n",
            "      Name           city\n",
            "0    Alice       New York\n",
            "1      Bob  San Francisco\n",
            "2  Charlie    Los Angeles\n",
            "3    David        Chicago\n",
            "Name              Bob\n",
            "Age                30\n",
            "city    San Francisco\n",
            "Name: 1, dtype: object\n",
            "Name        Charlie\n",
            "Age              35\n",
            "city    Los Angeles\n",
            "Name: 2, dtype: object\n"
          ]
        }
      ]
    },
    {
      "cell_type": "code",
      "source": [
        "df['Salary']=[50000,60000,70000,80000]\n",
        "print(df)"
      ],
      "metadata": {
        "colab": {
          "base_uri": "https://localhost:8080/"
        },
        "id": "wn3Av2aX_6gc",
        "outputId": "e8050dc2-e699-4d59-d816-9ae16ca6243a"
      },
      "execution_count": 12,
      "outputs": [
        {
          "output_type": "stream",
          "name": "stdout",
          "text": [
            "      Name  Age           city  Salary\n",
            "0    Alice   25       New York   50000\n",
            "1      Bob   30  San Francisco   60000\n",
            "2  Charlie   35    Los Angeles   70000\n",
            "3    David   40        Chicago   80000\n"
          ]
        }
      ]
    },
    {
      "cell_type": "code",
      "source": [
        "df=df.drop('city',axis=1)\n",
        "print(df)"
      ],
      "metadata": {
        "colab": {
          "base_uri": "https://localhost:8080/"
        },
        "id": "d0idspPwAAJQ",
        "outputId": "7e742766-af33-4aac-e55c-33c31fa44891"
      },
      "execution_count": 14,
      "outputs": [
        {
          "output_type": "stream",
          "name": "stdout",
          "text": [
            "      Name  Age  Salary\n",
            "0    Alice   25   50000\n",
            "1      Bob   30   60000\n",
            "2  Charlie   35   70000\n",
            "3    David   40   80000\n"
          ]
        }
      ]
    },
    {
      "cell_type": "code",
      "source": [
        "#filtering Data\n",
        "print(df[df['Age']>30])"
      ],
      "metadata": {
        "colab": {
          "base_uri": "https://localhost:8080/"
        },
        "id": "_jgcRdgEBBsC",
        "outputId": "e9df913d-6950-4060-b162-0ada0eaef5c9"
      },
      "execution_count": 15,
      "outputs": [
        {
          "output_type": "stream",
          "name": "stdout",
          "text": [
            "      Name  Age  Salary\n",
            "2  Charlie   35   70000\n",
            "3    David   40   80000\n"
          ]
        }
      ]
    },
    {
      "cell_type": "code",
      "source": [
        "#basic stastistics\n",
        "print(df['Age'].mean())\n",
        "print(df['Age'].max())\n",
        "print(df['Age'].min())"
      ],
      "metadata": {
        "colab": {
          "base_uri": "https://localhost:8080/"
        },
        "id": "iAX7bY9iBYHD",
        "outputId": "92d437bd-b378-42fb-c499-d37440936814"
      },
      "execution_count": 16,
      "outputs": [
        {
          "output_type": "stream",
          "name": "stdout",
          "text": [
            "32.5\n",
            "40\n",
            "25\n"
          ]
        }
      ]
    },
    {
      "cell_type": "code",
      "source": [
        "#5.Real-world exmaple:student data\n",
        "import pandas as pd\n",
        "#creating a daa frame with student details\n",
        "student_data={'Student_ID':[101,102,103,104],\n",
        "'Name':['Alice','Bob','Charlie','David'],\n",
        "'Marks':[85,92,78,95],\n",
        "'Department':['Computer Science','Mathematics','Computer Science', 'Physics']}\n",
        "df=pd.DataFrame(student_data)\n",
        "print(\"student_data:\")\n",
        "print(df)"
      ],
      "metadata": {
        "colab": {
          "base_uri": "https://localhost:8080/"
        },
        "id": "OzOU9vBuCpyt",
        "outputId": "4758b281-7149-4e81-ddd3-b921294e591c"
      },
      "execution_count": 24,
      "outputs": [
        {
          "output_type": "stream",
          "name": "stdout",
          "text": [
            "student_data:\n",
            "   Student_ID     Name  Marks        Department\n",
            "0         101    Alice     85  Computer Science\n",
            "1         102      Bob     92       Mathematics\n",
            "2         103  Charlie     78  Computer Science\n",
            "3         104    David     95           Physics\n"
          ]
        }
      ]
    },
    {
      "cell_type": "code",
      "source": [
        "#find student with marks>80\n",
        "print(\"\\nAverage Marks>80:\")\n",
        "print(df[df['Marks']>80])"
      ],
      "metadata": {
        "colab": {
          "base_uri": "https://localhost:8080/"
        },
        "id": "ZLdj-lIMGd6A",
        "outputId": "8e9e4cd3-0ec4-428a-e86a-774478d14a23"
      },
      "execution_count": 25,
      "outputs": [
        {
          "output_type": "stream",
          "name": "stdout",
          "text": [
            "\n",
            "Average Marks>80:\n",
            "   Student_ID   Name  Marks        Department\n",
            "0         101  Alice     85  Computer Science\n",
            "1         102    Bob     92       Mathematics\n",
            "3         104  David     95           Physics\n"
          ]
        }
      ]
    },
    {
      "cell_type": "code",
      "source": [
        "#average marks\n",
        "print(\"\\nAverage Marks:\")\n",
        "print(df['Marks'].mean())"
      ],
      "metadata": {
        "colab": {
          "base_uri": "https://localhost:8080/"
        },
        "id": "azwj5MARGu3f",
        "outputId": "94b80145-4398-480f-fd2b-ec5d93b37679"
      },
      "execution_count": 26,
      "outputs": [
        {
          "output_type": "stream",
          "name": "stdout",
          "text": [
            "\n",
            "Average Marks:\n",
            "87.5\n"
          ]
        }
      ]
    },
    {
      "cell_type": "code",
      "source": [
        "#add a new column\n",
        "df['Result']=['Pass' if x>=40 else 'Fail' for x in df['Marks']]\n",
        "print(\"\\nwith Result Column\")\n",
        "print(df)\n",
        "\n"
      ],
      "metadata": {
        "colab": {
          "base_uri": "https://localhost:8080/"
        },
        "id": "4_RGqCNkG5Gn",
        "outputId": "245864ae-1471-464d-a874-7eb4f8edc134"
      },
      "execution_count": 27,
      "outputs": [
        {
          "output_type": "stream",
          "name": "stdout",
          "text": [
            "\n",
            "with Result Column\n",
            "   Student_ID     Name  Marks        Department Result\n",
            "0         101    Alice     85  Computer Science   Pass\n",
            "1         102      Bob     92       Mathematics   Pass\n",
            "2         103  Charlie     78  Computer Science   Pass\n",
            "3         104    David     95           Physics   Pass\n"
          ]
        }
      ]
    },
    {
      "cell_type": "code",
      "source": [
        "stu_data={\n",
        "    'stu_name':['Teju','Akshaya','Deekshith','Akash','sharan'],\n",
        "    'stu_rollno':[1,2,3,4,5],\n",
        "    'M1':[90,82,92,95,91],\n",
        "    'M2':[92,81,92,96,95],\n",
        "    'M3':[93,85,95,92,97],\n",
        "}\n",
        "\n",
        "df = pd.DataFrame(stu_data)\n",
        "\n",
        "total=df['M1']+df['M2']+df['M3']\n",
        "df['total']=total\n",
        "\n",
        "result=['pass' if total>=270 else 'fail' for total in df['total']]\n",
        "df['result']=result\n",
        "\n",
        "avg=df['total']/3\n",
        "df['average']=avg\n",
        "\n",
        "print(df)"
      ],
      "metadata": {
        "colab": {
          "base_uri": "https://localhost:8080/"
        },
        "id": "tdJdbgEFKcEZ",
        "outputId": "39c5633b-a349-457e-e14a-775d003e8239"
      },
      "execution_count": 30,
      "outputs": [
        {
          "output_type": "stream",
          "name": "stdout",
          "text": [
            "    stu_name  stu_rollno  M1  M2  M3  total result    average\n",
            "0       Teju           1  90  92  93    275   pass  91.666667\n",
            "1    Akshaya           2  82  81  85    248   fail  82.666667\n",
            "2  Deekshith           3  92  92  95    279   pass  93.000000\n",
            "3      Akash           4  95  96  92    283   pass  94.333333\n",
            "4     sharan           5  91  95  97    283   pass  94.333333\n"
          ]
        }
      ]
    }
  ]
}